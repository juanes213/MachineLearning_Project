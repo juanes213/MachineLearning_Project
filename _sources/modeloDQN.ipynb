{
  "nbformat": 4,
  "nbformat_minor": 0,
  "metadata": {
    "colab": {
      "provenance": []
    },
    "kernelspec": {
      "name": "python3",
      "display_name": "Python 3"
    },
    "language_info": {
      "name": "python"
    }
  },
  "cells": [
    {
      "cell_type": "markdown",
      "source": [
        "# Implementación Modelo DQN"
      ],
      "metadata": {
        "id": "AcMBrHoKxhQK"
      }
    },
    {
      "cell_type": "code",
      "source": [
        "!pip install torch --upgrade"
      ],
      "metadata": {
        "colab": {
          "base_uri": "https://localhost:8080/"
        },
        "id": "PjlyDGF9FZlv",
        "outputId": "6e1c8765-228f-44ff-8b3b-23a45bbccc88"
      },
      "execution_count": null,
      "outputs": [
        {
          "output_type": "stream",
          "name": "stdout",
          "text": [
            "Requirement already satisfied: torch in /usr/local/lib/python3.10/dist-packages (2.3.0)\n",
            "Requirement already satisfied: filelock in /usr/local/lib/python3.10/dist-packages (from torch) (3.14.0)\n",
            "Requirement already satisfied: typing-extensions>=4.8.0 in /usr/local/lib/python3.10/dist-packages (from torch) (4.11.0)\n",
            "Requirement already satisfied: sympy in /usr/local/lib/python3.10/dist-packages (from torch) (1.12)\n",
            "Requirement already satisfied: networkx in /usr/local/lib/python3.10/dist-packages (from torch) (3.3)\n",
            "Requirement already satisfied: jinja2 in /usr/local/lib/python3.10/dist-packages (from torch) (3.1.4)\n",
            "Requirement already satisfied: fsspec in /usr/local/lib/python3.10/dist-packages (from torch) (2023.6.0)\n",
            "Requirement already satisfied: nvidia-cuda-nvrtc-cu12==12.1.105 in /usr/local/lib/python3.10/dist-packages (from torch) (12.1.105)\n",
            "Requirement already satisfied: nvidia-cuda-runtime-cu12==12.1.105 in /usr/local/lib/python3.10/dist-packages (from torch) (12.1.105)\n",
            "Requirement already satisfied: nvidia-cuda-cupti-cu12==12.1.105 in /usr/local/lib/python3.10/dist-packages (from torch) (12.1.105)\n",
            "Requirement already satisfied: nvidia-cudnn-cu12==8.9.2.26 in /usr/local/lib/python3.10/dist-packages (from torch) (8.9.2.26)\n",
            "Requirement already satisfied: nvidia-cublas-cu12==12.1.3.1 in /usr/local/lib/python3.10/dist-packages (from torch) (12.1.3.1)\n",
            "Requirement already satisfied: nvidia-cufft-cu12==11.0.2.54 in /usr/local/lib/python3.10/dist-packages (from torch) (11.0.2.54)\n",
            "Requirement already satisfied: nvidia-curand-cu12==10.3.2.106 in /usr/local/lib/python3.10/dist-packages (from torch) (10.3.2.106)\n",
            "Requirement already satisfied: nvidia-cusolver-cu12==11.4.5.107 in /usr/local/lib/python3.10/dist-packages (from torch) (11.4.5.107)\n",
            "Requirement already satisfied: nvidia-cusparse-cu12==12.1.0.106 in /usr/local/lib/python3.10/dist-packages (from torch) (12.1.0.106)\n",
            "Requirement already satisfied: nvidia-nccl-cu12==2.20.5 in /usr/local/lib/python3.10/dist-packages (from torch) (2.20.5)\n",
            "Requirement already satisfied: nvidia-nvtx-cu12==12.1.105 in /usr/local/lib/python3.10/dist-packages (from torch) (12.1.105)\n",
            "Requirement already satisfied: triton==2.3.0 in /usr/local/lib/python3.10/dist-packages (from torch) (2.3.0)\n",
            "Requirement already satisfied: nvidia-nvjitlink-cu12 in /usr/local/lib/python3.10/dist-packages (from nvidia-cusolver-cu12==11.4.5.107->torch) (12.5.40)\n",
            "Requirement already satisfied: MarkupSafe>=2.0 in /usr/local/lib/python3.10/dist-packages (from jinja2->torch) (2.1.5)\n",
            "Requirement already satisfied: mpmath>=0.19 in /usr/local/lib/python3.10/dist-packages (from sympy->torch) (1.3.0)\n"
          ]
        }
      ]
    },
    {
      "cell_type": "code",
      "source": [
        "!pip install tensorflow"
      ],
      "metadata": {
        "id": "jfXr7u6R22N4"
      },
      "execution_count": null,
      "outputs": []
    },
    {
      "cell_type": "code",
      "source": [
        "from tqdm import tqdm\n",
        "import os\n",
        "import numpy as np\n",
        "import pandas as pd\n",
        "from typing import List, Any\n",
        "from datetime import datetime\n",
        "import random\n",
        "from collections import deque\n",
        "import tensorflow as tf\n",
        "from tensorflow.keras.models import Sequential\n",
        "from tensorflow.keras.layers import Dense\n",
        "from tensorflow.keras.optimizers import Adam\n",
        "from google.colab import drive\n",
        "\n",
        "drive.mount('/content/drive')"
      ],
      "metadata": {
        "colab": {
          "base_uri": "https://localhost:8080/"
        },
        "id": "cTQ1cuCATJqV",
        "outputId": "2e703b36-dbca-4ceb-dffe-525b40dd5df3"
      },
      "execution_count": null,
      "outputs": [
        {
          "output_type": "stream",
          "name": "stdout",
          "text": [
            "Mounted at /content/drive\n"
          ]
        }
      ]
    },
    {
      "cell_type": "code",
      "source": [
        "# Helper functions\n",
        "def get_unix(date: str, time: str) -> int:\n",
        "    format_date = \"%d/%m/%Y\"\n",
        "    format_time = \"%H:%M:%S.%f000\"\n",
        "    date_obj = datetime.strptime(date, format_date)\n",
        "    time_obj = datetime.strptime(time, format_time)\n",
        "    almost = datetime.combine(date_obj.date(), time_obj.time())\n",
        "    return int(almost.timestamp())\n",
        "\n",
        "class Tick:\n",
        "    def __init__(self, line: str) -> None:\n",
        "        splitted_line = line.split(',')\n",
        "        self.date = splitted_line[0]\n",
        "        self.time = splitted_line[1]\n",
        "        self.bid = float(splitted_line[2].strip())\n",
        "        self.ask = float(splitted_line[4].strip())\n",
        "        self.unix_code = get_unix(splitted_line[0], splitted_line[1])\n",
        "\n",
        "class Strategy:\n",
        "    def __init__(self) -> None:\n",
        "        pass\n",
        "    def Von_Neuman(self, id: int, prices: List[float], tres_hold: float, acumulated_side_bool: bool, cant_part=8) -> int:\n",
        "        prices = prices[::-1]\n",
        "        if (id == 0) or (acumulated_side_bool is False):\n",
        "            up_down = []\n",
        "            if cant_part < len(prices):\n",
        "                for index_groups in range(cant_part - 1):\n",
        "                    try:\n",
        "                        if prices[index_groups * 100] < prices[(index_groups + 1) * 100]:\n",
        "                            up_down.append(1)\n",
        "                        elif prices[index_groups * 100] > prices[(index_groups + 1) * 100]:\n",
        "                            up_down.append(-1)\n",
        "                        else:\n",
        "                            up_down.append(0)\n",
        "                    except IndexError:\n",
        "                        up_down.append(0)\n",
        "                try:\n",
        "                    avg = sum(up_down) / len(up_down)\n",
        "                    if avg > tres_hold:\n",
        "                        return -1\n",
        "                    else:\n",
        "                        return 0\n",
        "                except ZeroDivisionError:\n",
        "                    return 0\n",
        "            else:\n",
        "                return 0\n",
        "        elif (id > 0) and (acumulated_side_bool is True):\n",
        "            up_down = []\n",
        "            if cant_part < len(prices):\n",
        "                for index_groups in range(cant_part - 1):\n",
        "                    try:\n",
        "                        if prices[index_groups * 10] < prices[(index_groups + 1) * 10]:\n",
        "                            up_down.append(1)\n",
        "                        elif prices[index_groups * 10] > prices[(index_groups + 1) * 10]:\n",
        "                            up_down.append(-1)\n",
        "                        else:\n",
        "                            up_down.append(0)\n",
        "                    except IndexError:\n",
        "                        up_down.append(0)\n",
        "                try:\n",
        "                    avg = sum(up_down) / len(up_down)\n",
        "                    if -tres_hold <= avg <= tres_hold:\n",
        "                        return 0\n",
        "                    elif avg > 0:\n",
        "                        return -1\n",
        "                    else:\n",
        "                        return 1\n",
        "                except ZeroDivisionError:\n",
        "                    return 0\n",
        "            else:\n",
        "                return 0\n",
        "\n",
        "class DQNAgent:\n",
        "    def __init__(self, state_size, action_size):\n",
        "        self.state_size = state_size\n",
        "        self.action_size = action_size\n",
        "        self.memory = deque(maxlen=500)\n",
        "        self.gamma = 0.95\n",
        "        self.epsilon = 1.0\n",
        "        self.epsilon_min = 0.01\n",
        "        self.epsilon_decay = 0.995\n",
        "        self.learning_rate = 0.001\n",
        "        self.model = self._build_model()\n",
        "        self.update_counter = 0\n",
        "\n",
        "    def _build_model(self):\n",
        "        model = Sequential()\n",
        "        model.add(Dense(8, input_dim=self.state_size, activation='relu'))\n",
        "        model.add(Dense(self.action_size, activation='linear'))\n",
        "        model.compile(loss='mse', optimizer=Adam(lr=self.learning_rate))\n",
        "        return model\n",
        "\n",
        "    def remember(self, state, action, reward, next_state, done):\n",
        "        self.memory.append((state, action, reward, next_state, done))\n",
        "\n",
        "    def act(self, state):\n",
        "        if np.random.rand() <= self.epsilon:\n",
        "            return random.randrange(self.action_size)\n",
        "        act_values = self.model.predict(state, verbose=0)\n",
        "        return np.argmax(act_values[0])\n",
        "\n",
        "    def replay(self, batch_size):\n",
        "        minibatch = random.sample(self.memory, batch_size)\n",
        "        for state, action, reward, next_state, done in minibatch:\n",
        "            target = reward\n",
        "            if not done:\n",
        "                target = reward + self.gamma * np.amax(self.model.predict(next_state, verbose=0)[0])\n",
        "            target_f = self.model.predict(state, verbose=0)\n",
        "            target_f[0][action] = target\n",
        "            self.model.fit(state, target_f, epochs=5, verbose=0)\n",
        "        if self.epsilon > self.epsilon_min:\n",
        "            self.epsilon *= self.epsilon_decay\n",
        "\n",
        "    def load(self, name):\n",
        "        self.model.load_weights(name)\n",
        "\n",
        "    def save(self, name):\n",
        "        self.model.save_weights(name)\n",
        "\n",
        "def compute_balance(orders_list: List[Any], tick: Tick) -> float:\n",
        "    open_balance = 0\n",
        "    for line in orders_list:\n",
        "        if len(line) > 2:\n",
        "            side = line[0]\n",
        "            number_units = line[1]\n",
        "            bid_price, ask_price = line[2], line[3]\n",
        "            last_bid, last_ask = tick.bid, tick.ask\n",
        "            profit_loss = 0\n",
        "            if side == -1:\n",
        "                profit_loss = number_units * last_bid - number_units * ask_price\n",
        "            elif side == 1:\n",
        "                profit_loss = number_units * bid_price - number_units * last_ask\n",
        "            open_balance += profit_loss\n",
        "    return open_balance * 1\n",
        "\n",
        "def compute_drawdown(path_to_use: str, orders_list: List[Any], tick: Tick) -> float:\n",
        "    if len(orders_list) > 1:\n",
        "        last_balance = compute_balance(orders_list, tick)\n",
        "        balances = []\n",
        "        with open(path_to_use, 'r') as file_reader:\n",
        "            for line in file_reader:\n",
        "                balances.append(float(line.split(':')[6]))\n",
        "        balances.append(last_balance)\n",
        "        max_drawdown = 0\n",
        "        drawdown = 0\n",
        "        peak = balances[0]\n",
        "        for balance in balances:\n",
        "            if balance > peak:\n",
        "                peak = balance\n",
        "            drawdown = peak - balance\n",
        "            if drawdown > max_drawdown:\n",
        "                max_drawdown = drawdown\n",
        "        return max_drawdown\n",
        "    else:\n",
        "        return 0\n",
        "\n",
        "def Register(path_to_use: str, line: List[Any]) -> None:\n",
        "    with open(path_to_use, 'a') as file_in_process:\n",
        "        for value in line:\n",
        "            file_in_process.writelines(f'{value}:')\n",
        "        file_in_process.writelines('\\n')\n",
        "\n",
        "def file_content(path_to_use: str) -> str:\n",
        "    if os.path.exists(path_to_use):\n",
        "        with open(path_to_use, 'r') as file_in_process:\n",
        "            return file_in_process.read()\n",
        "    else:\n",
        "        return \"\"\n",
        "\n",
        "def time_signal_detector(current_tick: Tick, previous_tick: Tick, pivot_unix: int) -> bool:\n",
        "    current_unix = current_tick.unix_code\n",
        "    previous_unix = previous_tick.unix_code\n",
        "    if current_unix <= pivot_unix:\n",
        "        return True\n",
        "    elif previous_unix <= pivot_unix < current_unix:\n",
        "        return False\n",
        "\n",
        "def State_detector(acumulated_side) -> bool:\n",
        "    return acumulated_side < 0\n",
        "\n",
        "dict_for_tres_hold = {0.07: 'A', 0.08: 'B', 0.09: 'C', 0.1: 'D', 0.15: 'E', 0.16: 'F', 0.17: 'G', 0.18: 'H', 0.19: 'I', 0.2: 'J', 0.25: 'K'}\n",
        "dict_for_decision = {1: 'sell', 0: 'hold', -1: 'buy'}\n",
        "time_frame = 616\n",
        "dict_for_time_frames = {'616': 'P_0'}\n",
        "\n",
        "def Process_day(path_of_current_day: str, day: str, Strat: Strategy, agent: DQNAgent, sum_side_by_day=0) -> str:\n",
        "    list_for_balance = []\n",
        "    prices = []\n",
        "    index_for_balance = 0\n",
        "    state_size = 5\n",
        "    action_size = len(dict_for_tres_hold)\n",
        "    batch_size = 8\n",
        "\n",
        "    with open(path_of_current_day, 'r') as current_day:\n",
        "        current_day_list = current_day.readlines()\n",
        "        last_hour = int(((current_day_list[-2].split(','))[1].split(':'))[0]) + 1\n",
        "        current_hour = 0\n",
        "\n",
        "        current_minute = 0\n",
        "        current_seconds = 0\n",
        "\n",
        "        pivot_time = f'{current_hour:02}:{current_minute:02}:{current_seconds:02}.000000000'\n",
        "        id = 0\n",
        "\n",
        "        for index in tqdm(range(1, len(current_day_list)), desc=f'Processing {day}'):\n",
        "            current_tick = Tick(current_day_list[index])\n",
        "            previous_tick = Tick(current_day_list[index - 1])\n",
        "            pivot_unix = get_unix(current_tick.date, pivot_time)\n",
        "            if time_signal_detector(current_tick, previous_tick, pivot_unix):\n",
        "                prices.append(np.random.choice([previous_tick.bid, current_tick.ask]))\n",
        "            else:\n",
        "                if len(prices) >= state_size:\n",
        "                    state = np.reshape(prices[-state_size:], [1, state_size])\n",
        "                    action = agent.act(state)\n",
        "                    selected_tres_hold = list(dict_for_tres_hold.keys())[action]\n",
        "                    side = Strat.Von_Neuman(id, prices, selected_tres_hold, State_detector(sum_side_by_day))\n",
        "                    sum_side_by_day += side\n",
        "                    reward = 0\n",
        "                    if side != 0:\n",
        "                        list_for_balance.append([side, 1, previous_tick.bid, previous_tick.ask])\n",
        "                        P_L = compute_balance(list_for_balance, previous_tick)\n",
        "                        drawdown = compute_drawdown(dict_for_time_frames[str(time_frame)] + '_' + day, list_for_balance, previous_tick)\n",
        "                        reward = P_L  # Using profit/loss as reward\n",
        "                        line_to_register = [id, dict_for_tres_hold[selected_tres_hold], dict_for_decision[side], 1, previous_tick.bid, previous_tick.ask, P_L, drawdown]\n",
        "                        Register(dict_for_time_frames[str(time_frame)] + '_' + day, inverted_line.split(':'))\n",
        "                        id += 1\n",
        "\n",
        "                    next_state = np.reshape(prices[-state_size:], [1, state_size])\n",
        "                    done = index == len(current_day_list) - 1\n",
        "                    agent.remember(state, action, reward, next_state, done)\n",
        "                    N = 1000\n",
        "                    agent.update_counter += 1\n",
        "                    if len(agent.memory) > batch_size and agent.update_counter % N == 0:\n",
        "                        agent.replay(batch_size)\n",
        "\n",
        "                current_seconds += 5\n",
        "                if current_seconds >= 60:\n",
        "                    current_seconds -= 60\n",
        "                    current_minute += 1\n",
        "\n",
        "                if current_minute >= 60:\n",
        "                    current_minute -= 60\n",
        "                    current_hour += 1\n",
        "\n",
        "                if current_hour >= last_hour:\n",
        "                    return dict_for_time_frames[str(time_frame)] + '_' + day\n",
        "\n",
        "                pivot_time = f'{current_hour:02}:{current_minute:02}:{int(current_seconds):02}.000000000'\n",
        "                prices = []\n",
        "    return dict_for_time_frames[str(time_frame)] + '_' + day\n",
        "\n",
        "\n",
        "folder = '/content/drive/My Drive/archivos'\n",
        "folder_for_results = '/content/drive/My Drive/New_results'\n",
        "archives_in_folder = os.listdir(folder)\n",
        "for archive_name in archives_in_folder:\n",
        "    if archive_name.endswith('.txt'):\n",
        "        complete_route = os.path.join(folder, archive_name)\n",
        "        print(f'Processing file: {complete_route}')\n",
        "        Strat = Strategy()\n",
        "        agent = DQNAgent(state_size=5, action_size=len(dict_for_tres_hold))\n",
        "        path_of_analized_day = Process_day(complete_route, archive_name, Strat, agent)\n",
        "        place_path = os.path.join(folder_for_results, path_of_analized_day)\n",
        "        content = file_content(path_of_analized_day)\n",
        "        if content.strip():\n",
        "            with open(place_path, 'w') as archive:\n",
        "                archive.write(content)\n",
        "        if os.path.exists(path_of_analized_day):\n",
        "            os.remove(path_of_analized_day)\n",
        "        else:\n",
        "            pass\n"
      ],
      "metadata": {
        "colab": {
          "base_uri": "https://localhost:8080/"
        },
        "id": "1YMraYDgHfP0",
        "outputId": "cbff9d39-dc74-4416-95df-560ca26673e4"
      },
      "execution_count": null,
      "outputs": [
        {
          "output_type": "stream",
          "name": "stderr",
          "text": [
            "WARNING:absl:`lr` is deprecated in Keras optimizer, please use `learning_rate` or use the legacy optimizer, e.g.,tf.keras.optimizers.legacy.Adam.\n"
          ]
        },
        {
          "output_type": "stream",
          "name": "stdout",
          "text": [
            "Drive already mounted at /content/drive; to attempt to forcibly remount, call drive.mount(\"/content/drive\", force_remount=True).\n",
            "Processing file: /content/drive/My Drive/archivos/04-12-2022.txt\n"
          ]
        },
        {
          "output_type": "stream",
          "name": "stderr",
          "text": [
            "Processing 04-12-2022.txt: 100%|█████████▉| 86478/86505 [00:17<00:00, 5023.76it/s]\n",
            "WARNING:absl:`lr` is deprecated in Keras optimizer, please use `learning_rate` or use the legacy optimizer, e.g.,tf.keras.optimizers.legacy.Adam.\n"
          ]
        },
        {
          "output_type": "stream",
          "name": "stdout",
          "text": [
            "Processing file: /content/drive/My Drive/archivos/22-12-2022.txt\n"
          ]
        },
        {
          "output_type": "stream",
          "name": "stderr",
          "text": [
            "Processing 22-12-2022.txt: 100%|█████████▉| 571494/571502 [02:24<00:00, 3957.41it/s]\n",
            "WARNING:absl:`lr` is deprecated in Keras optimizer, please use `learning_rate` or use the legacy optimizer, e.g.,tf.keras.optimizers.legacy.Adam.\n"
          ]
        },
        {
          "output_type": "stream",
          "name": "stdout",
          "text": [
            "Processing file: /content/drive/My Drive/archivos/26-12-2022.txt\n"
          ]
        },
        {
          "output_type": "stream",
          "name": "stderr",
          "text": [
            "Processing 26-12-2022.txt: 100%|█████████▉| 69371/69417 [00:15<00:00, 4586.27it/s]\n",
            "WARNING:absl:`lr` is deprecated in Keras optimizer, please use `learning_rate` or use the legacy optimizer, e.g.,tf.keras.optimizers.legacy.Adam.\n"
          ]
        },
        {
          "output_type": "stream",
          "name": "stdout",
          "text": [
            "Processing file: /content/drive/My Drive/archivos/11-12-2022.txt\n"
          ]
        },
        {
          "output_type": "stream",
          "name": "stderr",
          "text": [
            "Processing 11-12-2022.txt: 100%|█████████▉| 90237/90338 [00:17<00:00, 5295.96it/s]\n",
            "WARNING:absl:`lr` is deprecated in Keras optimizer, please use `learning_rate` or use the legacy optimizer, e.g.,tf.keras.optimizers.legacy.Adam.\n"
          ]
        },
        {
          "output_type": "stream",
          "name": "stdout",
          "text": [
            "Processing file: /content/drive/My Drive/archivos/27-12-2022.txt\n"
          ]
        },
        {
          "output_type": "stream",
          "name": "stderr",
          "text": [
            "Processing 27-12-2022.txt: 100%|█████████▉| 432468/432479 [02:04<00:00, 3468.45it/s]\n",
            "WARNING:absl:`lr` is deprecated in Keras optimizer, please use `learning_rate` or use the legacy optimizer, e.g.,tf.keras.optimizers.legacy.Adam.\n"
          ]
        },
        {
          "output_type": "stream",
          "name": "stdout",
          "text": [
            "Processing file: /content/drive/My Drive/archivos/20-12-2022.txt\n"
          ]
        },
        {
          "output_type": "stream",
          "name": "stderr",
          "text": [
            "Processing 20-12-2022.txt: 100%|█████████▉| 1025486/1025500 [03:39<00:00, 4663.82it/s]\n",
            "WARNING:absl:`lr` is deprecated in Keras optimizer, please use `learning_rate` or use the legacy optimizer, e.g.,tf.keras.optimizers.legacy.Adam.\n"
          ]
        },
        {
          "output_type": "stream",
          "name": "stdout",
          "text": [
            "Processing file: /content/drive/My Drive/archivos/28-12-2022.txt\n"
          ]
        },
        {
          "output_type": "stream",
          "name": "stderr",
          "text": [
            "Processing 28-12-2022.txt: 100%|█████████▉| 508466/508482 [02:16<00:00, 3712.87it/s]\n",
            "WARNING:absl:`lr` is deprecated in Keras optimizer, please use `learning_rate` or use the legacy optimizer, e.g.,tf.keras.optimizers.legacy.Adam.\n"
          ]
        },
        {
          "output_type": "stream",
          "name": "stdout",
          "text": [
            "Processing file: /content/drive/My Drive/archivos/15-12-2022.txt\n"
          ]
        },
        {
          "output_type": "stream",
          "name": "stderr",
          "text": [
            "Processing 15-12-2022.txt: 100%|█████████▉| 1225176/1225187 [04:03<00:00, 5033.79it/s]\n",
            "WARNING:absl:`lr` is deprecated in Keras optimizer, please use `learning_rate` or use the legacy optimizer, e.g.,tf.keras.optimizers.legacy.Adam.\n"
          ]
        },
        {
          "output_type": "stream",
          "name": "stdout",
          "text": [
            "Processing file: /content/drive/My Drive/archivos/23-12-2022.txt\n"
          ]
        },
        {
          "output_type": "stream",
          "name": "stderr",
          "text": [
            "Processing 23-12-2022.txt: 100%|█████████▉| 480511/480514 [01:52<00:00, 4275.43it/s]\n",
            "WARNING:absl:`lr` is deprecated in Keras optimizer, please use `learning_rate` or use the legacy optimizer, e.g.,tf.keras.optimizers.legacy.Adam.\n"
          ]
        },
        {
          "output_type": "stream",
          "name": "stdout",
          "text": [
            "Processing file: /content/drive/My Drive/archivos/18-12-2022.txt\n"
          ]
        },
        {
          "output_type": "stream",
          "name": "stderr",
          "text": [
            "Processing 18-12-2022.txt: 100%|█████████▉| 97392/97397 [00:22<00:00, 4406.25it/s]\n",
            "WARNING:absl:`lr` is deprecated in Keras optimizer, please use `learning_rate` or use the legacy optimizer, e.g.,tf.keras.optimizers.legacy.Adam.\n"
          ]
        },
        {
          "output_type": "stream",
          "name": "stdout",
          "text": [
            "Processing file: /content/drive/My Drive/archivos/21-12-2022.txt\n"
          ]
        },
        {
          "output_type": "stream",
          "name": "stderr",
          "text": [
            "Processing 21-12-2022.txt: 100%|█████████▉| 690510/690534 [02:49<00:00, 4063.76it/s]\n",
            "WARNING:absl:`lr` is deprecated in Keras optimizer, please use `learning_rate` or use the legacy optimizer, e.g.,tf.keras.optimizers.legacy.Adam.\n"
          ]
        },
        {
          "output_type": "stream",
          "name": "stdout",
          "text": [
            "Processing file: /content/drive/My Drive/archivos/19-12-2022.txt\n"
          ]
        },
        {
          "output_type": "stream",
          "name": "stderr",
          "text": [
            "Processing 19-12-2022.txt: 100%|█████████▉| 919319/919387 [03:29<00:00, 4384.31it/s]\n",
            "WARNING:absl:`lr` is deprecated in Keras optimizer, please use `learning_rate` or use the legacy optimizer, e.g.,tf.keras.optimizers.legacy.Adam.\n"
          ]
        },
        {
          "output_type": "stream",
          "name": "stdout",
          "text": [
            "Processing file: /content/drive/My Drive/archivos/16-12-2022.txt\n"
          ]
        },
        {
          "output_type": "stream",
          "name": "stderr",
          "text": [
            "Processing 16-12-2022.txt: 100%|█████████▉| 723231/723241 [02:36<00:00, 4619.96it/s]\n",
            "WARNING:absl:`lr` is deprecated in Keras optimizer, please use `learning_rate` or use the legacy optimizer, e.g.,tf.keras.optimizers.legacy.Adam.\n"
          ]
        },
        {
          "output_type": "stream",
          "name": "stdout",
          "text": [
            "Processing file: /content/drive/My Drive/archivos/05-12-2022.txt\n"
          ]
        },
        {
          "output_type": "stream",
          "name": "stderr",
          "text": [
            "Processing 05-12-2022.txt: 100%|█████████▉| 890142/890147 [03:20<00:00, 4435.33it/s]\n",
            "WARNING:absl:`lr` is deprecated in Keras optimizer, please use `learning_rate` or use the legacy optimizer, e.g.,tf.keras.optimizers.legacy.Adam.\n"
          ]
        },
        {
          "output_type": "stream",
          "name": "stdout",
          "text": [
            "Processing file: /content/drive/My Drive/archivos/01-12-2022.txt\n"
          ]
        },
        {
          "output_type": "stream",
          "name": "stderr",
          "text": [
            "Processing 01-12-2022.txt: 100%|█████████▉| 1226672/1226699 [03:59<00:00, 5120.88it/s]\n",
            "WARNING:absl:`lr` is deprecated in Keras optimizer, please use `learning_rate` or use the legacy optimizer, e.g.,tf.keras.optimizers.legacy.Adam.\n"
          ]
        },
        {
          "output_type": "stream",
          "name": "stdout",
          "text": [
            "Processing file: /content/drive/My Drive/archivos/08-12-2022.txt\n"
          ]
        },
        {
          "output_type": "stream",
          "name": "stderr",
          "text": [
            "Processing 08-12-2022.txt: 100%|█████████▉| 927416/927441 [03:32<00:00, 4364.89it/s]\n",
            "WARNING:absl:`lr` is deprecated in Keras optimizer, please use `learning_rate` or use the legacy optimizer, e.g.,tf.keras.optimizers.legacy.Adam.\n"
          ]
        },
        {
          "output_type": "stream",
          "name": "stdout",
          "text": [
            "Processing file: /content/drive/My Drive/archivos/07-12-2022.txt\n"
          ]
        },
        {
          "output_type": "stream",
          "name": "stderr",
          "text": [
            "Processing 07-12-2022.txt: 100%|█████████▉| 987984/988026 [03:33<00:00, 4623.50it/s]\n",
            "WARNING:absl:`lr` is deprecated in Keras optimizer, please use `learning_rate` or use the legacy optimizer, e.g.,tf.keras.optimizers.legacy.Adam.\n"
          ]
        },
        {
          "output_type": "stream",
          "name": "stdout",
          "text": [
            "Processing file: /content/drive/My Drive/archivos/02-12-2022.txt\n"
          ]
        },
        {
          "output_type": "stream",
          "name": "stderr",
          "text": [
            "Processing 02-12-2022.txt: 100%|█████████▉| 986052/986059 [03:12<00:00, 5129.80it/s]\n",
            "WARNING:absl:`lr` is deprecated in Keras optimizer, please use `learning_rate` or use the legacy optimizer, e.g.,tf.keras.optimizers.legacy.Adam.\n"
          ]
        },
        {
          "output_type": "stream",
          "name": "stdout",
          "text": [
            "Processing file: /content/drive/My Drive/archivos/09-12-2022.txt\n"
          ]
        },
        {
          "output_type": "stream",
          "name": "stderr",
          "text": [
            "Processing 09-12-2022.txt: 100%|█████████▉| 852682/852696 [02:42<00:00, 5234.37it/s]\n",
            "WARNING:absl:`lr` is deprecated in Keras optimizer, please use `learning_rate` or use the legacy optimizer, e.g.,tf.keras.optimizers.legacy.Adam.\n"
          ]
        },
        {
          "output_type": "stream",
          "name": "stdout",
          "text": [
            "Processing file: /content/drive/My Drive/archivos/23-11-2022.txt\n"
          ]
        },
        {
          "output_type": "stream",
          "name": "stderr",
          "text": [
            "Processing 23-11-2022.txt: 100%|█████████▉| 875962/875981 [03:28<00:00, 4206.65it/s]\n",
            "WARNING:absl:`lr` is deprecated in Keras optimizer, please use `learning_rate` or use the legacy optimizer, e.g.,tf.keras.optimizers.legacy.Adam.\n"
          ]
        },
        {
          "output_type": "stream",
          "name": "stdout",
          "text": [
            "Processing file: /content/drive/My Drive/archivos/12-12-2022.txt\n"
          ]
        },
        {
          "output_type": "stream",
          "name": "stderr",
          "text": [
            "Processing 12-12-2022.txt: 100%|█████████▉| 784050/784101 [03:07<00:00, 4188.19it/s]\n",
            "WARNING:absl:`lr` is deprecated in Keras optimizer, please use `learning_rate` or use the legacy optimizer, e.g.,tf.keras.optimizers.legacy.Adam.\n"
          ]
        },
        {
          "output_type": "stream",
          "name": "stdout",
          "text": [
            "Processing file: /content/drive/My Drive/archivos/13-12-2022.txt\n"
          ]
        },
        {
          "output_type": "stream",
          "name": "stderr",
          "text": [
            "Processing 13-12-2022.txt: 100%|█████████▉| 1400567/1400578 [04:35<00:00, 5089.53it/s]\n",
            "WARNING:absl:`lr` is deprecated in Keras optimizer, please use `learning_rate` or use the legacy optimizer, e.g.,tf.keras.optimizers.legacy.Adam.\n"
          ]
        },
        {
          "output_type": "stream",
          "name": "stdout",
          "text": [
            "Processing file: /content/drive/My Drive/archivos/30-11-2022.txt\n"
          ]
        },
        {
          "output_type": "stream",
          "name": "stderr",
          "text": [
            "Processing 30-11-2022.txt: 100%|█████████▉| 1103599/1103604 [04:02<00:00, 4554.05it/s]\n",
            "WARNING:absl:`lr` is deprecated in Keras optimizer, please use `learning_rate` or use the legacy optimizer, e.g.,tf.keras.optimizers.legacy.Adam.\n"
          ]
        },
        {
          "output_type": "stream",
          "name": "stdout",
          "text": [
            "Processing file: /content/drive/My Drive/archivos/22-11-2022.txt\n"
          ]
        },
        {
          "output_type": "stream",
          "name": "stderr",
          "text": [
            "Processing 22-11-2022.txt: 100%|█████████▉| 712608/712613 [02:48<00:00, 4235.41it/s]\n",
            "WARNING:absl:`lr` is deprecated in Keras optimizer, please use `learning_rate` or use the legacy optimizer, e.g.,tf.keras.optimizers.legacy.Adam.\n"
          ]
        },
        {
          "output_type": "stream",
          "name": "stdout",
          "text": [
            "Processing file: /content/drive/My Drive/archivos/29-12-2022.txt\n"
          ]
        },
        {
          "output_type": "stream",
          "name": "stderr",
          "text": [
            "Processing 29-12-2022.txt: 100%|█████████▉| 493980/494087 [02:09<00:00, 3818.77it/s]\n",
            "WARNING:absl:`lr` is deprecated in Keras optimizer, please use `learning_rate` or use the legacy optimizer, e.g.,tf.keras.optimizers.legacy.Adam.\n"
          ]
        },
        {
          "output_type": "stream",
          "name": "stdout",
          "text": [
            "Processing file: /content/drive/My Drive/archivos/06-12-2022.txt\n"
          ]
        },
        {
          "output_type": "stream",
          "name": "stderr",
          "text": [
            "Processing 06-12-2022.txt: 100%|█████████▉| 787242/787255 [03:09<00:00, 4144.51it/s]\n",
            "WARNING:absl:`lr` is deprecated in Keras optimizer, please use `learning_rate` or use the legacy optimizer, e.g.,tf.keras.optimizers.legacy.Adam.\n"
          ]
        },
        {
          "output_type": "stream",
          "name": "stdout",
          "text": [
            "Processing file: /content/drive/My Drive/archivos/18-11-2022.txt\n"
          ]
        },
        {
          "output_type": "stream",
          "name": "stderr",
          "text": [
            "Processing 18-11-2022.txt: 100%|██████████| 760811/760811 [02:33<00:00, 4967.19it/s]\n",
            "WARNING:absl:`lr` is deprecated in Keras optimizer, please use `learning_rate` or use the legacy optimizer, e.g.,tf.keras.optimizers.legacy.Adam.\n"
          ]
        },
        {
          "output_type": "stream",
          "name": "stdout",
          "text": [
            "Processing file: /content/drive/My Drive/archivos/16-11-2022.txt\n"
          ]
        },
        {
          "output_type": "stream",
          "name": "stderr",
          "text": [
            "Processing 16-11-2022.txt: 100%|█████████▉| 1215810/1215815 [04:17<00:00, 4730.02it/s]\n",
            "WARNING:absl:`lr` is deprecated in Keras optimizer, please use `learning_rate` or use the legacy optimizer, e.g.,tf.keras.optimizers.legacy.Adam.\n"
          ]
        },
        {
          "output_type": "stream",
          "name": "stdout",
          "text": [
            "Processing file: /content/drive/My Drive/archivos/17-11-2022.txt\n"
          ]
        },
        {
          "output_type": "stream",
          "name": "stderr",
          "text": [
            "Processing 17-11-2022.txt: 100%|█████████▉| 1086622/1086625 [03:55<00:00, 4608.18it/s]\n",
            "WARNING:absl:`lr` is deprecated in Keras optimizer, please use `learning_rate` or use the legacy optimizer, e.g.,tf.keras.optimizers.legacy.Adam.\n"
          ]
        },
        {
          "output_type": "stream",
          "name": "stdout",
          "text": [
            "Processing file: /content/drive/My Drive/archivos/29-11-2022.txt\n"
          ]
        },
        {
          "output_type": "stream",
          "name": "stderr",
          "text": [
            "Processing 29-11-2022.txt: 100%|█████████▉| 821076/821117 [03:18<00:00, 4139.56it/s]\n",
            "WARNING:absl:`lr` is deprecated in Keras optimizer, please use `learning_rate` or use the legacy optimizer, e.g.,tf.keras.optimizers.legacy.Adam.\n"
          ]
        },
        {
          "output_type": "stream",
          "name": "stdout",
          "text": [
            "Processing file: /content/drive/My Drive/archivos/21-11-2022.txt\n"
          ]
        },
        {
          "output_type": "stream",
          "name": "stderr",
          "text": [
            "Processing 21-11-2022.txt: 100%|█████████▉| 804592/804632 [03:10<00:00, 4216.90it/s]\n",
            "WARNING:absl:`lr` is deprecated in Keras optimizer, please use `learning_rate` or use the legacy optimizer, e.g.,tf.keras.optimizers.legacy.Adam.\n"
          ]
        },
        {
          "output_type": "stream",
          "name": "stdout",
          "text": [
            "Processing file: /content/drive/My Drive/archivos/20-11-2022.txt\n"
          ]
        },
        {
          "output_type": "stream",
          "name": "stderr",
          "text": [
            "Processing 20-11-2022.txt: 100%|█████████▉| 107732/107761 [00:21<00:00, 5006.46it/s]\n",
            "WARNING:absl:`lr` is deprecated in Keras optimizer, please use `learning_rate` or use the legacy optimizer, e.g.,tf.keras.optimizers.legacy.Adam.\n"
          ]
        },
        {
          "output_type": "stream",
          "name": "stdout",
          "text": [
            "Processing file: /content/drive/My Drive/archivos/25-11-2022.txt\n"
          ]
        },
        {
          "output_type": "stream",
          "name": "stderr",
          "text": [
            "Processing 25-11-2022.txt: 100%|██████████| 453034/453034 [01:38<00:00, 4584.44it/s]\n",
            "WARNING:absl:`lr` is deprecated in Keras optimizer, please use `learning_rate` or use the legacy optimizer, e.g.,tf.keras.optimizers.legacy.Adam.\n"
          ]
        },
        {
          "output_type": "stream",
          "name": "stdout",
          "text": [
            "Processing file: /content/drive/My Drive/archivos/14-12-2022.txt\n"
          ]
        },
        {
          "output_type": "stream",
          "name": "stderr",
          "text": [
            "Processing 14-12-2022.txt: 100%|█████████▉| 1440171/1440192 [04:37<00:00, 5186.19it/s]\n",
            "WARNING:absl:`lr` is deprecated in Keras optimizer, please use `learning_rate` or use the legacy optimizer, e.g.,tf.keras.optimizers.legacy.Adam.\n"
          ]
        },
        {
          "output_type": "stream",
          "name": "stdout",
          "text": [
            "Processing file: /content/drive/My Drive/archivos/28-11-2022.txt\n"
          ]
        },
        {
          "output_type": "stream",
          "name": "stderr",
          "text": [
            "Processing 28-11-2022.txt: 100%|█████████▉| 877779/877807 [03:30<00:00, 4165.83it/s]\n",
            "WARNING:absl:`lr` is deprecated in Keras optimizer, please use `learning_rate` or use the legacy optimizer, e.g.,tf.keras.optimizers.legacy.Adam.\n"
          ]
        },
        {
          "output_type": "stream",
          "name": "stdout",
          "text": [
            "Processing file: /content/drive/My Drive/archivos/27-11-2022.txt\n"
          ]
        },
        {
          "output_type": "stream",
          "name": "stderr",
          "text": [
            "Processing 27-11-2022.txt: 100%|█████████▉| 94008/94013 [00:18<00:00, 5094.88it/s]\n",
            "WARNING:absl:`lr` is deprecated in Keras optimizer, please use `learning_rate` or use the legacy optimizer, e.g.,tf.keras.optimizers.legacy.Adam.\n"
          ]
        },
        {
          "output_type": "stream",
          "name": "stdout",
          "text": [
            "Processing file: /content/drive/My Drive/archivos/24-11-2022.txt\n"
          ]
        },
        {
          "output_type": "stream",
          "name": "stderr",
          "text": [
            "Processing 24-11-2022.txt: 100%|█████████▉| 460807/460868 [01:55<00:00, 3978.94it/s]\n",
            "WARNING:absl:`lr` is deprecated in Keras optimizer, please use `learning_rate` or use the legacy optimizer, e.g.,tf.keras.optimizers.legacy.Adam.\n"
          ]
        },
        {
          "output_type": "stream",
          "name": "stdout",
          "text": [
            "Processing file: /content/drive/My Drive/archivos/30-10-2022.txt\n"
          ]
        },
        {
          "output_type": "stream",
          "name": "stderr",
          "text": [
            "Processing 30-10-2022.txt: 100%|█████████▉| 73785/73819 [00:15<00:00, 4749.49it/s]\n",
            "WARNING:absl:`lr` is deprecated in Keras optimizer, please use `learning_rate` or use the legacy optimizer, e.g.,tf.keras.optimizers.legacy.Adam.\n"
          ]
        },
        {
          "output_type": "stream",
          "name": "stdout",
          "text": [
            "Processing file: /content/drive/My Drive/archivos/11-11-2022.txt\n"
          ]
        },
        {
          "output_type": "stream",
          "name": "stderr",
          "text": [
            "Processing 11-11-2022.txt: 100%|██████████| 1185855/1185855 [03:45<00:00, 5248.23it/s]\n",
            "WARNING:absl:`lr` is deprecated in Keras optimizer, please use `learning_rate` or use the legacy optimizer, e.g.,tf.keras.optimizers.legacy.Adam.\n"
          ]
        },
        {
          "output_type": "stream",
          "name": "stdout",
          "text": [
            "Processing file: /content/drive/My Drive/archivos/03-11-2022.txt\n"
          ]
        },
        {
          "output_type": "stream",
          "name": "stderr",
          "text": [
            "Processing 03-11-2022.txt: 100%|█████████▉| 876597/876617 [03:12<00:00, 4556.22it/s]\n",
            "WARNING:absl:`lr` is deprecated in Keras optimizer, please use `learning_rate` or use the legacy optimizer, e.g.,tf.keras.optimizers.legacy.Adam.\n"
          ]
        },
        {
          "output_type": "stream",
          "name": "stdout",
          "text": [
            "Processing file: /content/drive/My Drive/archivos/06-11-2022.txt\n"
          ]
        },
        {
          "output_type": "stream",
          "name": "stderr",
          "text": [
            "Processing 06-11-2022.txt: 100%|█████████▉| 109647/109669 [00:25<00:00, 4326.90it/s]\n",
            "WARNING:absl:`lr` is deprecated in Keras optimizer, please use `learning_rate` or use the legacy optimizer, e.g.,tf.keras.optimizers.legacy.Adam.\n"
          ]
        },
        {
          "output_type": "stream",
          "name": "stdout",
          "text": [
            "Processing file: /content/drive/My Drive/archivos/09-11-2022.txt\n"
          ]
        },
        {
          "output_type": "stream",
          "name": "stderr",
          "text": [
            "Processing 09-11-2022.txt: 100%|█████████▉| 1081220/1081245 [04:00<00:00, 4490.90it/s]\n",
            "WARNING:absl:`lr` is deprecated in Keras optimizer, please use `learning_rate` or use the legacy optimizer, e.g.,tf.keras.optimizers.legacy.Adam.\n"
          ]
        },
        {
          "output_type": "stream",
          "name": "stdout",
          "text": [
            "Processing file: /content/drive/My Drive/archivos/07-11-2022.txt\n"
          ]
        },
        {
          "output_type": "stream",
          "name": "stderr",
          "text": [
            "Processing 07-11-2022.txt: 100%|█████████▉| 817307/817385 [03:11<00:00, 4278.21it/s]\n",
            "WARNING:absl:`lr` is deprecated in Keras optimizer, please use `learning_rate` or use the legacy optimizer, e.g.,tf.keras.optimizers.legacy.Adam.\n"
          ]
        },
        {
          "output_type": "stream",
          "name": "stdout",
          "text": [
            "Processing file: /content/drive/My Drive/archivos/31-10-2022.txt\n"
          ]
        },
        {
          "output_type": "stream",
          "name": "stderr",
          "text": [
            "Processing 31-10-2022.txt: 100%|█████████▉| 730493/730500 [02:47<00:00, 4357.83it/s]\n",
            "WARNING:absl:`lr` is deprecated in Keras optimizer, please use `learning_rate` or use the legacy optimizer, e.g.,tf.keras.optimizers.legacy.Adam.\n"
          ]
        },
        {
          "output_type": "stream",
          "name": "stdout",
          "text": [
            "Processing file: /content/drive/My Drive/archivos/28-10-2022.txt\n"
          ]
        },
        {
          "output_type": "stream",
          "name": "stderr",
          "text": [
            "Processing 28-10-2022.txt: 100%|██████████| 874982/874982 [02:57<00:00, 4939.63it/s]\n",
            "WARNING:absl:`lr` is deprecated in Keras optimizer, please use `learning_rate` or use the legacy optimizer, e.g.,tf.keras.optimizers.legacy.Adam.\n"
          ]
        },
        {
          "output_type": "stream",
          "name": "stdout",
          "text": [
            "Processing file: /content/drive/My Drive/archivos/08-11-2022.txt\n"
          ]
        },
        {
          "output_type": "stream",
          "name": "stderr",
          "text": [
            "Processing 08-11-2022.txt: 100%|█████████▉| 791222/791240 [03:07<00:00, 4225.71it/s]\n",
            "WARNING:absl:`lr` is deprecated in Keras optimizer, please use `learning_rate` or use the legacy optimizer, e.g.,tf.keras.optimizers.legacy.Adam.\n"
          ]
        },
        {
          "output_type": "stream",
          "name": "stdout",
          "text": [
            "Processing file: /content/drive/My Drive/archivos/04-11-2022.txt\n"
          ]
        },
        {
          "output_type": "stream",
          "name": "stderr",
          "text": [
            "Processing 04-11-2022.txt: 100%|█████████▉| 1089616/1089618 [03:26<00:00, 5280.87it/s]\n",
            "WARNING:absl:`lr` is deprecated in Keras optimizer, please use `learning_rate` or use the legacy optimizer, e.g.,tf.keras.optimizers.legacy.Adam.\n"
          ]
        },
        {
          "output_type": "stream",
          "name": "stdout",
          "text": [
            "Processing file: /content/drive/My Drive/archivos/02-11-2022.txt\n"
          ]
        },
        {
          "output_type": "stream",
          "name": "stderr",
          "text": [
            "Processing 02-11-2022.txt: 100%|█████████▉| 1037084/1037096 [03:30<00:00, 4933.74it/s]\n",
            "WARNING:absl:`lr` is deprecated in Keras optimizer, please use `learning_rate` or use the legacy optimizer, e.g.,tf.keras.optimizers.legacy.Adam.\n"
          ]
        },
        {
          "output_type": "stream",
          "name": "stdout",
          "text": [
            "Processing file: /content/drive/My Drive/archivos/27-10-2022.txt\n"
          ]
        },
        {
          "output_type": "stream",
          "name": "stderr",
          "text": [
            "Processing 27-10-2022.txt: 100%|█████████▉| 1286553/1286559 [04:30<00:00, 4764.09it/s]\n",
            "WARNING:absl:`lr` is deprecated in Keras optimizer, please use `learning_rate` or use the legacy optimizer, e.g.,tf.keras.optimizers.legacy.Adam.\n"
          ]
        },
        {
          "output_type": "stream",
          "name": "stdout",
          "text": [
            "Processing file: /content/drive/My Drive/archivos/13-11-2022.txt\n"
          ]
        },
        {
          "output_type": "stream",
          "name": "stderr",
          "text": [
            "Processing 13-11-2022.txt: 100%|█████████▉| 221746/221795 [00:43<00:00, 5049.01it/s]\n",
            "WARNING:absl:`lr` is deprecated in Keras optimizer, please use `learning_rate` or use the legacy optimizer, e.g.,tf.keras.optimizers.legacy.Adam.\n"
          ]
        },
        {
          "output_type": "stream",
          "name": "stdout",
          "text": [
            "Processing file: /content/drive/My Drive/archivos/26-10-2022.txt\n"
          ]
        },
        {
          "output_type": "stream",
          "name": "stderr",
          "text": [
            "Processing 26-10-2022.txt: 100%|█████████▉| 1173954/1173959 [04:04<00:00, 4797.85it/s]\n",
            "WARNING:absl:`lr` is deprecated in Keras optimizer, please use `learning_rate` or use the legacy optimizer, e.g.,tf.keras.optimizers.legacy.Adam.\n"
          ]
        },
        {
          "output_type": "stream",
          "name": "stdout",
          "text": [
            "Processing file: /content/drive/My Drive/archivos/16-10-2022.txt\n"
          ]
        },
        {
          "output_type": "stream",
          "name": "stderr",
          "text": [
            "Processing 16-10-2022.txt: 100%|█████████▉| 113821/113833 [00:27<00:00, 4080.04it/s]\n",
            "WARNING:absl:`lr` is deprecated in Keras optimizer, please use `learning_rate` or use the legacy optimizer, e.g.,tf.keras.optimizers.legacy.Adam.\n"
          ]
        },
        {
          "output_type": "stream",
          "name": "stdout",
          "text": [
            "Processing file: /content/drive/My Drive/archivos/10-11-2022.txt\n"
          ]
        },
        {
          "output_type": "stream",
          "name": "stderr",
          "text": [
            "Processing 10-11-2022.txt: 100%|█████████▉| 1806288/1806293 [05:47<00:00, 5198.57it/s]\n",
            "WARNING:absl:`lr` is deprecated in Keras optimizer, please use `learning_rate` or use the legacy optimizer, e.g.,tf.keras.optimizers.legacy.Adam.\n"
          ]
        },
        {
          "output_type": "stream",
          "name": "stdout",
          "text": [
            "Processing file: /content/drive/My Drive/archivos/15-09-2022.txt\n"
          ]
        },
        {
          "output_type": "stream",
          "name": "stderr",
          "text": [
            "Processing 15-09-2022.txt: 100%|█████████▉| 761224/761238 [03:01<00:00, 4188.99it/s]\n",
            "WARNING:absl:`lr` is deprecated in Keras optimizer, please use `learning_rate` or use the legacy optimizer, e.g.,tf.keras.optimizers.legacy.Adam.\n"
          ]
        },
        {
          "output_type": "stream",
          "name": "stdout",
          "text": [
            "Processing file: /content/drive/My Drive/archivos/23-10-2022.txt\n"
          ]
        },
        {
          "output_type": "stream",
          "name": "stderr",
          "text": [
            "Processing 23-10-2022.txt: 100%|█████████▉| 232581/232582 [00:43<00:00, 5338.14it/s]\n",
            "WARNING:absl:`lr` is deprecated in Keras optimizer, please use `learning_rate` or use the legacy optimizer, e.g.,tf.keras.optimizers.legacy.Adam.\n"
          ]
        },
        {
          "output_type": "stream",
          "name": "stdout",
          "text": [
            "Processing file: /content/drive/My Drive/archivos/25-09-2022.txt\n"
          ]
        },
        {
          "output_type": "stream",
          "name": "stderr",
          "text": [
            "Processing 25-09-2022.txt: 100%|█████████▉| 246201/246209 [00:41<00:00, 5868.28it/s]\n",
            "WARNING:absl:`lr` is deprecated in Keras optimizer, please use `learning_rate` or use the legacy optimizer, e.g.,tf.keras.optimizers.legacy.Adam.\n"
          ]
        },
        {
          "output_type": "stream",
          "name": "stdout",
          "text": [
            "Processing file: /content/drive/My Drive/archivos/02-10-2022.txt\n"
          ]
        },
        {
          "output_type": "stream",
          "name": "stderr",
          "text": [
            "Processing 02-10-2022.txt: 100%|█████████▉| 124895/124927 [00:25<00:00, 4857.13it/s]\n",
            "WARNING:absl:`lr` is deprecated in Keras optimizer, please use `learning_rate` or use the legacy optimizer, e.g.,tf.keras.optimizers.legacy.Adam.\n"
          ]
        },
        {
          "output_type": "stream",
          "name": "stdout",
          "text": [
            "Processing file: /content/drive/My Drive/archivos/09-10-2022.txt\n"
          ]
        },
        {
          "output_type": "stream",
          "name": "stderr",
          "text": [
            "Processing 09-10-2022.txt: 100%|██████████| 105412/105412 [00:23<00:00, 4554.65it/s]\n",
            "WARNING:absl:`lr` is deprecated in Keras optimizer, please use `learning_rate` or use the legacy optimizer, e.g.,tf.keras.optimizers.legacy.Adam.\n"
          ]
        },
        {
          "output_type": "stream",
          "name": "stdout",
          "text": [
            "Processing file: /content/drive/My Drive/archivos/18-09-2022.txt\n"
          ]
        },
        {
          "output_type": "stream",
          "name": "stderr",
          "text": [
            "Processing 18-09-2022.txt: 100%|█████████▉| 55270/55277 [00:09<00:00, 5831.49it/s]\n",
            "WARNING:absl:`lr` is deprecated in Keras optimizer, please use `learning_rate` or use the legacy optimizer, e.g.,tf.keras.optimizers.legacy.Adam.\n"
          ]
        },
        {
          "output_type": "stream",
          "name": "stdout",
          "text": [
            "Processing file: /content/drive/My Drive/archivos/04-09-2022.txt\n"
          ]
        },
        {
          "output_type": "stream",
          "name": "stderr",
          "text": [
            "Processing 04-09-2022.txt: 100%|█████████▉| 134237/134339 [00:25<00:00, 5221.53it/s]\n",
            "WARNING:absl:`lr` is deprecated in Keras optimizer, please use `learning_rate` or use the legacy optimizer, e.g.,tf.keras.optimizers.legacy.Adam.\n"
          ]
        },
        {
          "output_type": "stream",
          "name": "stdout",
          "text": [
            "Processing file: /content/drive/My Drive/archivos/28-09-2022.txt\n"
          ]
        },
        {
          "output_type": "stream",
          "name": "stderr",
          "text": [
            "Processing 28-09-2022.txt: 100%|█████████▉| 1432559/1432569 [04:56<00:00, 4830.61it/s]\n",
            "WARNING:absl:`lr` is deprecated in Keras optimizer, please use `learning_rate` or use the legacy optimizer, e.g.,tf.keras.optimizers.legacy.Adam.\n"
          ]
        },
        {
          "output_type": "stream",
          "name": "stdout",
          "text": [
            "Processing file: /content/drive/My Drive/archivos/05-09-2022.txt\n"
          ]
        },
        {
          "output_type": "stream",
          "name": "stderr",
          "text": [
            "Processing 05-09-2022.txt: 100%|█████████▉| 523615/523694 [02:16<00:00, 3833.73it/s]\n",
            "WARNING:absl:`lr` is deprecated in Keras optimizer, please use `learning_rate` or use the legacy optimizer, e.g.,tf.keras.optimizers.legacy.Adam.\n"
          ]
        },
        {
          "output_type": "stream",
          "name": "stdout",
          "text": [
            "Processing file: /content/drive/My Drive/archivos/14-08-2022.txt\n"
          ]
        },
        {
          "output_type": "stream",
          "name": "stderr",
          "text": [
            "Processing 14-08-2022.txt: 100%|█████████▉| 74044/74051 [00:14<00:00, 5031.74it/s]\n",
            "WARNING:absl:`lr` is deprecated in Keras optimizer, please use `learning_rate` or use the legacy optimizer, e.g.,tf.keras.optimizers.legacy.Adam.\n"
          ]
        },
        {
          "output_type": "stream",
          "name": "stdout",
          "text": [
            "Processing file: /content/drive/My Drive/archivos/22-08-2022.txt\n"
          ]
        },
        {
          "output_type": "stream",
          "name": "stderr",
          "text": [
            "Processing 22-08-2022.txt: 100%|█████████▉| 648377/648398 [02:41<00:00, 4016.59it/s]\n",
            "WARNING:absl:`lr` is deprecated in Keras optimizer, please use `learning_rate` or use the legacy optimizer, e.g.,tf.keras.optimizers.legacy.Adam.\n"
          ]
        },
        {
          "output_type": "stream",
          "name": "stdout",
          "text": [
            "Processing file: /content/drive/My Drive/archivos/10-07-2022.txt\n"
          ]
        },
        {
          "output_type": "stream",
          "name": "stderr",
          "text": [
            "Processing 10-07-2022.txt: 100%|█████████▉| 71682/71696 [00:16<00:00, 4463.90it/s]\n",
            "WARNING:absl:`lr` is deprecated in Keras optimizer, please use `learning_rate` or use the legacy optimizer, e.g.,tf.keras.optimizers.legacy.Adam.\n"
          ]
        },
        {
          "output_type": "stream",
          "name": "stdout",
          "text": [
            "Processing file: /content/drive/My Drive/archivos/31-07-2022.txt\n"
          ]
        },
        {
          "output_type": "stream",
          "name": "stderr",
          "text": [
            "Processing 31-07-2022.txt: 100%|█████████▉| 107365/107368 [00:23<00:00, 4543.80it/s]\n",
            "WARNING:absl:`lr` is deprecated in Keras optimizer, please use `learning_rate` or use the legacy optimizer, e.g.,tf.keras.optimizers.legacy.Adam.\n"
          ]
        },
        {
          "output_type": "stream",
          "name": "stdout",
          "text": [
            "Processing file: /content/drive/My Drive/archivos/15-07-2022.txt\n"
          ]
        },
        {
          "output_type": "stream",
          "name": "stderr",
          "text": [
            "Processing 15-07-2022.txt: 100%|██████████| 697728/697728 [02:17<00:00, 5080.29it/s]\n",
            "WARNING:absl:`lr` is deprecated in Keras optimizer, please use `learning_rate` or use the legacy optimizer, e.g.,tf.keras.optimizers.legacy.Adam.\n"
          ]
        },
        {
          "output_type": "stream",
          "name": "stdout",
          "text": [
            "Processing file: /content/drive/My Drive/archivos/08-06-2022.txt\n"
          ]
        },
        {
          "output_type": "stream",
          "name": "stderr",
          "text": [
            "Processing 08-06-2022.txt: 100%|█████████▉| 479581/479589 [01:57<00:00, 4093.75it/s]\n",
            "WARNING:absl:`lr` is deprecated in Keras optimizer, please use `learning_rate` or use the legacy optimizer, e.g.,tf.keras.optimizers.legacy.Adam.\n"
          ]
        },
        {
          "output_type": "stream",
          "name": "stdout",
          "text": [
            "Processing file: /content/drive/My Drive/archivos/29-05-2022.txt\n"
          ]
        },
        {
          "output_type": "stream",
          "name": "stderr",
          "text": [
            "Processing 29-05-2022.txt: 100%|██████████| 43619/43619 [00:09<00:00, 4538.78it/s]\n",
            "WARNING:absl:`lr` is deprecated in Keras optimizer, please use `learning_rate` or use the legacy optimizer, e.g.,tf.keras.optimizers.legacy.Adam.\n"
          ]
        },
        {
          "output_type": "stream",
          "name": "stdout",
          "text": [
            "Processing file: /content/drive/My Drive/archivos/12-06-2022.txt\n"
          ]
        },
        {
          "output_type": "stream",
          "name": "stderr",
          "text": [
            "Processing 12-06-2022.txt: 100%|█████████▉| 86697/86728 [00:20<00:00, 4155.90it/s]\n",
            "WARNING:absl:`lr` is deprecated in Keras optimizer, please use `learning_rate` or use the legacy optimizer, e.g.,tf.keras.optimizers.legacy.Adam.\n"
          ]
        },
        {
          "output_type": "stream",
          "name": "stdout",
          "text": [
            "Processing file: /content/drive/My Drive/archivos/22-05-2022.txt\n"
          ]
        },
        {
          "output_type": "stream",
          "name": "stderr",
          "text": [
            "Processing 22-05-2022.txt: 100%|█████████▉| 70485/70526 [00:14<00:00, 4876.48it/s]\n",
            "WARNING:absl:`lr` is deprecated in Keras optimizer, please use `learning_rate` or use the legacy optimizer, e.g.,tf.keras.optimizers.legacy.Adam.\n"
          ]
        },
        {
          "output_type": "stream",
          "name": "stdout",
          "text": [
            "Processing file: /content/drive/My Drive/archivos/10-05-2022.txt\n"
          ]
        },
        {
          "output_type": "stream",
          "name": "stderr",
          "text": [
            "Processing 10-05-2022.txt: 100%|██████████| 733683/733683 [02:45<00:00, 4428.91it/s]\n",
            "WARNING:absl:`lr` is deprecated in Keras optimizer, please use `learning_rate` or use the legacy optimizer, e.g.,tf.keras.optimizers.legacy.Adam.\n"
          ]
        },
        {
          "output_type": "stream",
          "name": "stdout",
          "text": [
            "Processing file: /content/drive/My Drive/archivos/01-05-2022.txt\n"
          ]
        },
        {
          "output_type": "stream",
          "name": "stderr",
          "text": [
            "Processing 01-05-2022.txt: 100%|█████████▉| 83846/83857 [00:16<00:00, 5062.06it/s]\n",
            "WARNING:absl:`lr` is deprecated in Keras optimizer, please use `learning_rate` or use the legacy optimizer, e.g.,tf.keras.optimizers.legacy.Adam.\n"
          ]
        },
        {
          "output_type": "stream",
          "name": "stdout",
          "text": [
            "Processing file: /content/drive/My Drive/archivos/10-04-2022.txt\n"
          ]
        },
        {
          "output_type": "stream",
          "name": "stderr",
          "text": [
            "Processing 10-04-2022.txt: 100%|█████████▉| 51463/51468 [00:09<00:00, 5178.95it/s]\n",
            "WARNING:absl:`lr` is deprecated in Keras optimizer, please use `learning_rate` or use the legacy optimizer, e.g.,tf.keras.optimizers.legacy.Adam.\n"
          ]
        },
        {
          "output_type": "stream",
          "name": "stdout",
          "text": [
            "Processing file: /content/drive/My Drive/archivos/14-04-2022.txt\n"
          ]
        },
        {
          "output_type": "stream",
          "name": "stderr",
          "text": [
            "Processing 14-04-2022.txt: 100%|██████████| 605214/605214 [01:59<00:00, 5045.84it/s]\n",
            "WARNING:absl:`lr` is deprecated in Keras optimizer, please use `learning_rate` or use the legacy optimizer, e.g.,tf.keras.optimizers.legacy.Adam.\n"
          ]
        },
        {
          "output_type": "stream",
          "name": "stdout",
          "text": [
            "Processing file: /content/drive/My Drive/archivos/06-03-2022.txt\n"
          ]
        },
        {
          "output_type": "stream",
          "name": "stderr",
          "text": [
            "Processing 06-03-2022.txt: 100%|█████████▉| 207325/207347 [00:40<00:00, 5073.07it/s]\n",
            "WARNING:absl:`lr` is deprecated in Keras optimizer, please use `learning_rate` or use the legacy optimizer, e.g.,tf.keras.optimizers.legacy.Adam.\n"
          ]
        },
        {
          "output_type": "stream",
          "name": "stdout",
          "text": [
            "Processing file: /content/drive/My Drive/archivos/13-02-2022.txt\n"
          ]
        },
        {
          "output_type": "stream",
          "name": "stderr",
          "text": [
            "Processing 13-02-2022.txt: 100%|██████████| 70086/70086 [00:15<00:00, 4599.48it/s]\n",
            "WARNING:absl:`lr` is deprecated in Keras optimizer, please use `learning_rate` or use the legacy optimizer, e.g.,tf.keras.optimizers.legacy.Adam.\n"
          ]
        },
        {
          "output_type": "stream",
          "name": "stdout",
          "text": [
            "Processing file: /content/drive/My Drive/archivos/07-04-2022.txt\n"
          ]
        },
        {
          "output_type": "stream",
          "name": "stderr",
          "text": [
            "Processing 07-04-2022.txt: 100%|█████████▉| 534309/534322 [02:09<00:00, 4134.03it/s]\n",
            "WARNING:absl:`lr` is deprecated in Keras optimizer, please use `learning_rate` or use the legacy optimizer, e.g.,tf.keras.optimizers.legacy.Adam.\n"
          ]
        },
        {
          "output_type": "stream",
          "name": "stdout",
          "text": [
            "Processing file: /content/drive/My Drive/archivos/22-02-2022.txt\n"
          ]
        },
        {
          "output_type": "stream",
          "name": "stderr",
          "text": [
            "Processing 22-02-2022.txt: 100%|█████████▉| 482001/482006 [02:06<00:00, 3823.79it/s]\n",
            "WARNING:absl:`lr` is deprecated in Keras optimizer, please use `learning_rate` or use the legacy optimizer, e.g.,tf.keras.optimizers.legacy.Adam.\n"
          ]
        },
        {
          "output_type": "stream",
          "name": "stdout",
          "text": [
            "Processing file: /content/drive/My Drive/archivos/27-02-2022.txt\n"
          ]
        },
        {
          "output_type": "stream",
          "name": "stderr",
          "text": [
            "Processing 27-02-2022.txt: 100%|█████████▉| 133860/133876 [00:27<00:00, 4815.74it/s]\n",
            "WARNING:absl:`lr` is deprecated in Keras optimizer, please use `learning_rate` or use the legacy optimizer, e.g.,tf.keras.optimizers.legacy.Adam.\n"
          ]
        },
        {
          "output_type": "stream",
          "name": "stdout",
          "text": [
            "Processing file: /content/drive/My Drive/archivos/31-01-2022.txt\n"
          ]
        },
        {
          "output_type": "stream",
          "name": "stderr",
          "text": [
            "Processing 31-01-2022.txt: 100%|█████████▉| 607881/607887 [02:26<00:00, 4147.35it/s]\n",
            "WARNING:absl:`lr` is deprecated in Keras optimizer, please use `learning_rate` or use the legacy optimizer, e.g.,tf.keras.optimizers.legacy.Adam.\n"
          ]
        },
        {
          "output_type": "stream",
          "name": "stdout",
          "text": [
            "Processing file: /content/drive/My Drive/archivos/14-05-2023.txt\n"
          ]
        },
        {
          "output_type": "stream",
          "name": "stderr",
          "text": [
            "Processing 14-05-2023.txt: 100%|█████████▉| 30791/30793 [00:02<00:00, 10734.55it/s]\n",
            "WARNING:absl:`lr` is deprecated in Keras optimizer, please use `learning_rate` or use the legacy optimizer, e.g.,tf.keras.optimizers.legacy.Adam.\n"
          ]
        },
        {
          "output_type": "stream",
          "name": "stdout",
          "text": [
            "Processing file: /content/drive/My Drive/archivos/26-01-2022.txt\n"
          ]
        },
        {
          "output_type": "stream",
          "name": "stderr",
          "text": [
            "Processing 26-01-2022.txt: 100%|█████████▉| 745115/745192 [02:42<00:00, 4593.80it/s]\n",
            "WARNING:absl:`lr` is deprecated in Keras optimizer, please use `learning_rate` or use the legacy optimizer, e.g.,tf.keras.optimizers.legacy.Adam.\n"
          ]
        },
        {
          "output_type": "stream",
          "name": "stdout",
          "text": [
            "Processing file: /content/drive/My Drive/archivos/07-05-2023.txt\n"
          ]
        },
        {
          "output_type": "stream",
          "name": "stderr",
          "text": [
            "Processing 07-05-2023.txt: 100%|█████████▉| 30772/30774 [00:03<00:00, 8627.11it/s]\n",
            "WARNING:absl:`lr` is deprecated in Keras optimizer, please use `learning_rate` or use the legacy optimizer, e.g.,tf.keras.optimizers.legacy.Adam.\n"
          ]
        },
        {
          "output_type": "stream",
          "name": "stdout",
          "text": [
            "Processing file: /content/drive/My Drive/archivos/15-06-2023.txt\n"
          ]
        },
        {
          "output_type": "stream",
          "name": "stderr",
          "text": [
            "Processing 15-06-2023.txt: 100%|█████████▉| 215335/215341 [01:07<00:00, 3177.42it/s]\n",
            "WARNING:absl:`lr` is deprecated in Keras optimizer, please use `learning_rate` or use the legacy optimizer, e.g.,tf.keras.optimizers.legacy.Adam.\n"
          ]
        },
        {
          "output_type": "stream",
          "name": "stdout",
          "text": [
            "Processing file: /content/drive/My Drive/archivos/24-05-2023.txt\n"
          ]
        },
        {
          "output_type": "stream",
          "name": "stderr",
          "text": [
            "Processing 24-05-2023.txt: 100%|█████████▉| 508700/508708 [02:24<00:00, 3520.79it/s]\n",
            "WARNING:absl:`lr` is deprecated in Keras optimizer, please use `learning_rate` or use the legacy optimizer, e.g.,tf.keras.optimizers.legacy.Adam.\n"
          ]
        },
        {
          "output_type": "stream",
          "name": "stdout",
          "text": [
            "Processing file: /content/drive/My Drive/archivos/13-06-2023.txt\n"
          ]
        },
        {
          "output_type": "stream",
          "name": "stderr",
          "text": [
            "Processing 13-06-2023.txt: 100%|██████████| 486603/486603 [02:00<00:00, 4031.46it/s]\n",
            "WARNING:absl:`lr` is deprecated in Keras optimizer, please use `learning_rate` or use the legacy optimizer, e.g.,tf.keras.optimizers.legacy.Adam.\n"
          ]
        },
        {
          "output_type": "stream",
          "name": "stdout",
          "text": [
            "Processing file: /content/drive/My Drive/archivos/04-04-2023.txt\n"
          ]
        },
        {
          "output_type": "stream",
          "name": "stderr",
          "text": [
            "Processing 04-04-2023.txt: 100%|█████████▉| 542439/542444 [02:08<00:00, 4207.86it/s]\n",
            "WARNING:absl:`lr` is deprecated in Keras optimizer, please use `learning_rate` or use the legacy optimizer, e.g.,tf.keras.optimizers.legacy.Adam.\n"
          ]
        },
        {
          "output_type": "stream",
          "name": "stdout",
          "text": [
            "Processing file: /content/drive/My Drive/archivos/05-04-2023.txt\n"
          ]
        },
        {
          "output_type": "stream",
          "name": "stderr",
          "text": [
            "Processing 05-04-2023.txt: 100%|██████████| 461147/461147 [02:04<00:00, 3692.31it/s]\n",
            "WARNING:absl:`lr` is deprecated in Keras optimizer, please use `learning_rate` or use the legacy optimizer, e.g.,tf.keras.optimizers.legacy.Adam.\n"
          ]
        },
        {
          "output_type": "stream",
          "name": "stdout",
          "text": [
            "Processing file: /content/drive/My Drive/archivos/26-03-2023.txt\n"
          ]
        },
        {
          "output_type": "stream",
          "name": "stderr",
          "text": [
            "Processing 26-03-2023.txt: 100%|█████████▉| 54164/54190 [00:12<00:00, 4359.56it/s]\n",
            "WARNING:absl:`lr` is deprecated in Keras optimizer, please use `learning_rate` or use the legacy optimizer, e.g.,tf.keras.optimizers.legacy.Adam.\n"
          ]
        },
        {
          "output_type": "stream",
          "name": "stdout",
          "text": [
            "Processing file: /content/drive/My Drive/archivos/03-03-2023.txt\n"
          ]
        },
        {
          "output_type": "stream",
          "name": "stderr",
          "text": [
            "Processing 03-03-2023.txt: 100%|█████████▉| 565186/565189 [02:03<00:00, 4570.92it/s]\n",
            "WARNING:absl:`lr` is deprecated in Keras optimizer, please use `learning_rate` or use the legacy optimizer, e.g.,tf.keras.optimizers.legacy.Adam.\n"
          ]
        },
        {
          "output_type": "stream",
          "name": "stdout",
          "text": [
            "Processing file: /content/drive/My Drive/archivos/27-01-2023.txt\n"
          ]
        },
        {
          "output_type": "stream",
          "name": "stderr",
          "text": [
            "Processing 27-01-2023.txt: 100%|█████████▉| 711294/711297 [02:25<00:00, 4893.62it/s]\n",
            "WARNING:absl:`lr` is deprecated in Keras optimizer, please use `learning_rate` or use the legacy optimizer, e.g.,tf.keras.optimizers.legacy.Adam.\n"
          ]
        },
        {
          "output_type": "stream",
          "name": "stdout",
          "text": [
            "Processing file: /content/drive/My Drive/archivos/11-01-2023.txt\n"
          ]
        },
        {
          "output_type": "stream",
          "name": "stderr",
          "text": [
            "Processing 11-01-2023.txt: 100%|█████████▉| 712041/712045 [03:04<00:00, 3857.79it/s]\n"
          ]
        }
      ]
    },
    {
      "cell_type": "code",
      "source": [
        "from google.colab import drive\n",
        "import os\n",
        "import pandas as pd\n",
        "\n",
        "# Montar Google Drive\n",
        "drive.mount('/content/drive')\n",
        "\n",
        "# Definir los directorios\n",
        "input_directory = \"/content/drive/My Drive/New_results\"\n",
        "output_directory = \"/content/drive/My Drive/summary\"\n",
        "\n",
        "# Crear el directorio de salida si no existe\n",
        "os.makedirs(output_directory, exist_ok=True)\n",
        "\n",
        "# Listar todos los archivos de entrada\n",
        "input_files = [file for file in os.listdir(input_directory) if file.endswith('.txt')]\n",
        "\n",
        "# Diccionario para almacenar los resúmenes\n",
        "summary_dict = {}\n",
        "\n",
        "# Procesar cada archivo\n",
        "for file in input_files:\n",
        "    file_path = os.path.join(input_directory, file)\n",
        "\n",
        "    # Leer el archivo en un DataFrame\n",
        "    df = pd.read_csv(file_path, header=None, delimiter=\":\")\n",
        "    # Extraer el threshold (segunda columna) y balance (sexta columna)\n",
        "    df['threshold'] = df[1]\n",
        "    df['balance'] = df[6]\n",
        "\n",
        "    # Sumar los balances para cada threshold\n",
        "    threshold_sums = df.groupby('threshold')['balance'].sum().reset_index()\n",
        "\n",
        "    # Agregar al diccionario de resúmenes\n",
        "    for index, row in threshold_sums.iterrows():\n",
        "        threshold = row['threshold']\n",
        "        balance = row['balance']\n",
        "\n",
        "        if threshold not in summary_dict:\n",
        "            summary_dict[threshold] = 0\n",
        "        summary_dict[threshold] += balance\n",
        "\n",
        "# Escribir los resúmenes en archivos de salida\n",
        "for threshold, total_balance in summary_dict.items():\n",
        "    summary_file_path = os.path.join(output_directory, f\"summary_{threshold}.txt\")\n",
        "    with open(summary_file_path, 'w') as summary_file:\n",
        "        summary_file.write(f\"Threshold: {threshold}\\nTotal Balance: {total_balance}\\n\")\n",
        "\n",
        "print(\"Los archivos de resumen se han creado en la carpeta 'summary'.\")\n"
      ],
      "metadata": {
        "colab": {
          "base_uri": "https://localhost:8080/"
        },
        "id": "lpUhr8Rxf4e0",
        "outputId": "bf27f938-10ca-48ce-e892-0a7101814309"
      },
      "execution_count": null,
      "outputs": [
        {
          "output_type": "stream",
          "name": "stdout",
          "text": [
            "Drive already mounted at /content/drive; to attempt to forcibly remount, call drive.mount(\"/content/drive\", force_remount=True).\n",
            "Los archivos de resumen se han creado en la carpeta 'summary'.\n"
          ]
        }
      ]
    },
    {
      "cell_type": "code",
      "source": [
        "from google.colab import drive\n",
        "import os\n",
        "import pandas as pd\n",
        "\n",
        "# Montar Google Drive\n",
        "drive.mount('/content/drive')\n",
        "\n",
        "# Definir los directorios\n",
        "input_directory = \"/content/drive/My Drive/New_results\"\n",
        "output_directory = \"/content/drive/My Drive/summary\"\n",
        "\n",
        "# Crear el directorio de salida si no existe\n",
        "os.makedirs(output_directory, exist_ok=True)\n",
        "\n",
        "# Listar todos los archivos de entrada\n",
        "input_files = [file for file in os.listdir(input_directory) if file.endswith('.txt')]\n",
        "\n",
        "# Diccionario para almacenar los resúmenes\n",
        "summary_dict = {}\n",
        "\n",
        "# Procesar cada archivo\n",
        "for file in input_files:\n",
        "    file_path = os.path.join(input_directory, file)\n",
        "\n",
        "    # Leer el archivo en un DataFrame\n",
        "    df = pd.read_csv(file_path, header=None, delimiter=\":\")\n",
        "\n",
        "    # Extraer el threshold (segunda columna) y drawdown (última columna)\n",
        "    df['threshold'] = df[1]\n",
        "    df['drawdown'] = df[7]\n",
        "    df['drawdown'] = df['drawdown'].abs()\n",
        "\n",
        "    # Sumar los drawdowns para cada threshold\n",
        "    threshold_sums = df.groupby('threshold')['drawdown'].sum().reset_index()\n",
        "\n",
        "    # Agregar al diccionario de resúmenes\n",
        "    for index, row in threshold_sums.iterrows():\n",
        "        threshold = row['threshold']\n",
        "        drawdown = row['drawdown']\n",
        "\n",
        "        if threshold not in summary_dict:\n",
        "            summary_dict[threshold] = 0\n",
        "        summary_dict[threshold] += drawdown\n",
        "\n",
        "# Escribir los resúmenes en archivos de salida\n",
        "for threshold, total_drawdown in summary_dict.items():\n",
        "    summary_file_path = os.path.join(output_directory, f\"summary_drawdown_{threshold}.txt\")\n",
        "    with open(summary_file_path, 'w') as summary_file:\n",
        "        summary_file.write(f\"Threshold: {threshold}\\nTotal Drawdown: {total_drawdown}\\n\")\n",
        "\n",
        "print(\"Los archivos de resumen de drawdown se han creado en la carpeta 'summary'.\")\n"
      ],
      "metadata": {
        "colab": {
          "base_uri": "https://localhost:8080/"
        },
        "id": "iRhGp5XEjRXu",
        "outputId": "80871760-c804-4f70-c87a-c460c1b68f0c"
      },
      "execution_count": null,
      "outputs": [
        {
          "output_type": "stream",
          "name": "stdout",
          "text": [
            "Drive already mounted at /content/drive; to attempt to forcibly remount, call drive.mount(\"/content/drive\", force_remount=True).\n",
            "Los archivos de resumen de drawdown se han creado en la carpeta 'summary'.\n"
          ]
        }
      ]
    }
  ]
}